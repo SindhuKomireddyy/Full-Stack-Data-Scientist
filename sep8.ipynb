{
 "cells": [
  {
   "cell_type": "code",
   "execution_count": 3,
   "id": "022583a7",
   "metadata": {},
   "outputs": [],
   "source": [
    "str=input(\"enter the string\")\n",
    "letter=input(\"enter the letter\")\n",
    "def preLetterCase(str,letter):\n",
    "    for i in str:\n",
    "        if str[i]==letter:\n",
    "            if letter.isUpper():\n",
    "                str=str.uppercase()\n",
    "            else:\n",
    "                str=str.lowercase()\n",
    "        else:\n",
    "            continue\n",
    "    return str;    "
   ]
  },
  {
   "cell_type": "code",
   "execution_count": 6,
   "id": "26f2d98a",
   "metadata": {},
   "outputs": [
    {
     "name": "stdout",
     "output_type": "stream",
     "text": [
      "50.0\n"
     ]
    }
   ],
   "source": [
    "import math\n",
    "def hypotenuse(x,y):\n",
    "    math.h=math.pow(x,2)+math.pow(y,2)\n",
    "    print(math.h)\n",
    "hypotenuse(5,5)"
   ]
  },
  {
   "cell_type": "code",
   "execution_count": null,
   "id": "4ca48edd",
   "metadata": {},
   "outputs": [
    {
     "ename": "NameError",
     "evalue": "name 'Stu_id' is not defined",
     "output_type": "error",
     "traceback": [
      "\u001b[31m---------------------------------------------------------------------------\u001b[39m",
      "\u001b[31mNameError\u001b[39m                                 Traceback (most recent call last)",
      "\u001b[36mCell\u001b[39m\u001b[36m \u001b[39m\u001b[32mIn[13]\u001b[39m\u001b[32m, line 8\u001b[39m\n\u001b[32m      6\u001b[39m         \u001b[38;5;28mself\u001b[39m.Stu_name=Stu_name\n\u001b[32m      7\u001b[39m         \u001b[38;5;28mprint\u001b[39m(\u001b[33m\"\u001b[39m\u001b[33mmy name is\u001b[39m\u001b[33m\"\u001b[39m,Stu_name)\n\u001b[32m----> \u001b[39m\u001b[32m8\u001b[39m Student(\u001b[43mStu_id\u001b[49m,Stu_name);\n",
      "\u001b[31mNameError\u001b[39m: name 'Stu_id' is not defined"
     ]
    }
   ],
   "source": [
    "    \n",
    "class Student:\n",
    "        def Student(self,Stu_id,Stu_name):\n",
    "           \n",
    "            self.Stu_id=Stu_id\n",
    "            self.Stu_name=Stu_name\n",
    "            print(\"my name is\",Stu_name)\n",
    "        student=Student(Stu_id,Stu_name)\n"
   ]
  }
 ],
 "metadata": {
  "kernelspec": {
   "display_name": "Python 3",
   "language": "python",
   "name": "python3"
  },
  "language_info": {
   "codemirror_mode": {
    "name": "ipython",
    "version": 3
   },
   "file_extension": ".py",
   "mimetype": "text/x-python",
   "name": "python",
   "nbconvert_exporter": "python",
   "pygments_lexer": "ipython3",
   "version": "3.11.13"
  }
 },
 "nbformat": 4,
 "nbformat_minor": 5
}
